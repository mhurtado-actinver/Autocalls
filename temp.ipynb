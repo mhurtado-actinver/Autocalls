{
 "cells": [
  {
   "cell_type": "code",
   "execution_count": 8,
   "id": "0417a6f8-73de-4074-bc27-89075bb1d9dc",
   "metadata": {},
   "outputs": [],
   "source": [
    "# Imports\n",
    "from common_imports import *\n",
    "from api_init import initialize_apis\n",
    "from data_extraction import get_continuous_risk_free_rate, get_live_ric_data\n",
    "from testing import split_train_test_calendar_window, compare_simulated_to_real_returns, run_rolling_volatility_regime_model\n",
    "from plotting import *\n",
    "from branding import *\n",
    "from models.gbm import monte_carlo_paths_gbm\n",
    "from models.jump import monte_carlo_paths_jumps, calibrate_jump_model\n",
    "from models.regime import monte_carlo_paths_regimes, calibrate_volatility_regime_model\n",
    "from models.heston import monte_carlo_paths_heston, calibrate_heston_model"
   ]
  },
  {
   "cell_type": "code",
   "execution_count": 2,
   "id": "c2344526-ef2b-4f63-bb76-5f480799da9a",
   "metadata": {},
   "outputs": [
    {
     "name": "stdout",
     "output_type": "stream",
     "text": [
      "Collecting jupyterlab-git\n",
      "  Downloading jupyterlab_git-0.51.1-py3-none-any.whl.metadata (32 kB)\n",
      "Requirement already satisfied: jupyter-server<3,>=2.0.1 in c:\\users\\mauricio\\anaconda3\\lib\\site-packages (from jupyterlab-git) (2.14.1)\n",
      "Collecting nbdime~=4.0.1 (from jupyterlab-git)\n",
      "  Downloading nbdime-4.0.2-py3-none-any.whl.metadata (9.5 kB)\n",
      "Requirement already satisfied: nbformat in c:\\users\\mauricio\\anaconda3\\lib\\site-packages (from jupyterlab-git) (5.10.4)\n",
      "Requirement already satisfied: packaging in c:\\users\\mauricio\\anaconda3\\lib\\site-packages (from jupyterlab-git) (24.1)\n",
      "Requirement already satisfied: pexpect in c:\\users\\mauricio\\anaconda3\\lib\\site-packages (from jupyterlab-git) (4.8.0)\n",
      "Requirement already satisfied: traitlets~=5.0 in c:\\users\\mauricio\\anaconda3\\lib\\site-packages (from jupyterlab-git) (5.14.3)\n",
      "Requirement already satisfied: anyio>=3.1.0 in c:\\users\\mauricio\\anaconda3\\lib\\site-packages (from jupyter-server<3,>=2.0.1->jupyterlab-git) (4.2.0)\n",
      "Requirement already satisfied: argon2-cffi>=21.1 in c:\\users\\mauricio\\anaconda3\\lib\\site-packages (from jupyter-server<3,>=2.0.1->jupyterlab-git) (21.3.0)\n",
      "Requirement already satisfied: jinja2>=3.0.3 in c:\\users\\mauricio\\anaconda3\\lib\\site-packages (from jupyter-server<3,>=2.0.1->jupyterlab-git) (3.1.4)\n",
      "Requirement already satisfied: jupyter-client>=7.4.4 in c:\\users\\mauricio\\anaconda3\\lib\\site-packages (from jupyter-server<3,>=2.0.1->jupyterlab-git) (8.6.0)\n",
      "Requirement already satisfied: jupyter-core!=5.0.*,>=4.12 in c:\\users\\mauricio\\anaconda3\\lib\\site-packages (from jupyter-server<3,>=2.0.1->jupyterlab-git) (5.7.2)\n",
      "Requirement already satisfied: jupyter-events>=0.9.0 in c:\\users\\mauricio\\anaconda3\\lib\\site-packages (from jupyter-server<3,>=2.0.1->jupyterlab-git) (0.10.0)\n",
      "Requirement already satisfied: jupyter-server-terminals>=0.4.4 in c:\\users\\mauricio\\anaconda3\\lib\\site-packages (from jupyter-server<3,>=2.0.1->jupyterlab-git) (0.4.4)\n",
      "Requirement already satisfied: nbconvert>=6.4.4 in c:\\users\\mauricio\\anaconda3\\lib\\site-packages (from jupyter-server<3,>=2.0.1->jupyterlab-git) (7.16.4)\n",
      "Requirement already satisfied: overrides>=5.0 in c:\\users\\mauricio\\anaconda3\\lib\\site-packages (from jupyter-server<3,>=2.0.1->jupyterlab-git) (7.4.0)\n",
      "Requirement already satisfied: prometheus-client>=0.9 in c:\\users\\mauricio\\anaconda3\\lib\\site-packages (from jupyter-server<3,>=2.0.1->jupyterlab-git) (0.14.1)\n",
      "Requirement already satisfied: pywinpty>=2.0.1 in c:\\users\\mauricio\\anaconda3\\lib\\site-packages (from jupyter-server<3,>=2.0.1->jupyterlab-git) (2.0.10)\n",
      "Requirement already satisfied: pyzmq>=24 in c:\\users\\mauricio\\anaconda3\\lib\\site-packages (from jupyter-server<3,>=2.0.1->jupyterlab-git) (25.1.2)\n",
      "Requirement already satisfied: send2trash>=1.8.2 in c:\\users\\mauricio\\anaconda3\\lib\\site-packages (from jupyter-server<3,>=2.0.1->jupyterlab-git) (1.8.2)\n",
      "Requirement already satisfied: terminado>=0.8.3 in c:\\users\\mauricio\\anaconda3\\lib\\site-packages (from jupyter-server<3,>=2.0.1->jupyterlab-git) (0.17.1)\n",
      "Requirement already satisfied: tornado>=6.2.0 in c:\\users\\mauricio\\anaconda3\\lib\\site-packages (from jupyter-server<3,>=2.0.1->jupyterlab-git) (6.4.1)\n",
      "Requirement already satisfied: websocket-client>=1.7 in c:\\users\\mauricio\\anaconda3\\lib\\site-packages (from jupyter-server<3,>=2.0.1->jupyterlab-git) (1.8.0)\n",
      "Requirement already satisfied: colorama in c:\\users\\mauricio\\anaconda3\\lib\\site-packages (from nbdime~=4.0.1->jupyterlab-git) (0.4.6)\n",
      "Requirement already satisfied: gitpython!=2.1.4,!=2.1.5,!=2.1.6 in c:\\users\\mauricio\\anaconda3\\lib\\site-packages (from nbdime~=4.0.1->jupyterlab-git) (3.1.43)\n",
      "Collecting jupyter-server-mathjax>=0.2.2 (from nbdime~=4.0.1->jupyterlab-git)\n",
      "  Downloading jupyter_server_mathjax-0.2.6-py3-none-any.whl.metadata (2.1 kB)\n",
      "Requirement already satisfied: pygments in c:\\users\\mauricio\\anaconda3\\lib\\site-packages (from nbdime~=4.0.1->jupyterlab-git) (2.15.1)\n",
      "Requirement already satisfied: requests in c:\\users\\mauricio\\anaconda3\\lib\\site-packages (from nbdime~=4.0.1->jupyterlab-git) (2.32.3)\n",
      "Requirement already satisfied: fastjsonschema>=2.15 in c:\\users\\mauricio\\anaconda3\\lib\\site-packages (from nbformat->jupyterlab-git) (2.16.2)\n",
      "Requirement already satisfied: jsonschema>=2.6 in c:\\users\\mauricio\\anaconda3\\lib\\site-packages (from nbformat->jupyterlab-git) (4.23.0)\n",
      "Requirement already satisfied: ptyprocess>=0.5 in c:\\users\\mauricio\\anaconda3\\lib\\site-packages (from pexpect->jupyterlab-git) (0.7.0)\n",
      "Requirement already satisfied: idna>=2.8 in c:\\users\\mauricio\\anaconda3\\lib\\site-packages (from anyio>=3.1.0->jupyter-server<3,>=2.0.1->jupyterlab-git) (2.10)\n",
      "Requirement already satisfied: sniffio>=1.1 in c:\\users\\mauricio\\anaconda3\\lib\\site-packages (from anyio>=3.1.0->jupyter-server<3,>=2.0.1->jupyterlab-git) (1.3.0)\n",
      "Requirement already satisfied: argon2-cffi-bindings in c:\\users\\mauricio\\anaconda3\\lib\\site-packages (from argon2-cffi>=21.1->jupyter-server<3,>=2.0.1->jupyterlab-git) (21.2.0)\n",
      "Requirement already satisfied: gitdb<5,>=4.0.1 in c:\\users\\mauricio\\anaconda3\\lib\\site-packages (from gitpython!=2.1.4,!=2.1.5,!=2.1.6->nbdime~=4.0.1->jupyterlab-git) (4.0.7)\n",
      "Requirement already satisfied: MarkupSafe>=2.0 in c:\\users\\mauricio\\anaconda3\\lib\\site-packages (from jinja2>=3.0.3->jupyter-server<3,>=2.0.1->jupyterlab-git) (2.1.3)\n",
      "Requirement already satisfied: attrs>=22.2.0 in c:\\users\\mauricio\\anaconda3\\lib\\site-packages (from jsonschema>=2.6->nbformat->jupyterlab-git) (23.1.0)\n",
      "Requirement already satisfied: jsonschema-specifications>=2023.03.6 in c:\\users\\mauricio\\anaconda3\\lib\\site-packages (from jsonschema>=2.6->nbformat->jupyterlab-git) (2023.7.1)\n",
      "Requirement already satisfied: referencing>=0.28.4 in c:\\users\\mauricio\\anaconda3\\lib\\site-packages (from jsonschema>=2.6->nbformat->jupyterlab-git) (0.30.2)\n",
      "Requirement already satisfied: rpds-py>=0.7.1 in c:\\users\\mauricio\\anaconda3\\lib\\site-packages (from jsonschema>=2.6->nbformat->jupyterlab-git) (0.10.6)\n",
      "Requirement already satisfied: python-dateutil>=2.8.2 in c:\\users\\mauricio\\anaconda3\\lib\\site-packages (from jupyter-client>=7.4.4->jupyter-server<3,>=2.0.1->jupyterlab-git) (2.9.0.post0)\n",
      "Requirement already satisfied: platformdirs>=2.5 in c:\\users\\mauricio\\anaconda3\\lib\\site-packages (from jupyter-core!=5.0.*,>=4.12->jupyter-server<3,>=2.0.1->jupyterlab-git) (3.10.0)\n",
      "Requirement already satisfied: pywin32>=300 in c:\\users\\mauricio\\anaconda3\\lib\\site-packages (from jupyter-core!=5.0.*,>=4.12->jupyter-server<3,>=2.0.1->jupyterlab-git) (305.1)\n",
      "Requirement already satisfied: python-json-logger>=2.0.4 in c:\\users\\mauricio\\anaconda3\\lib\\site-packages (from jupyter-events>=0.9.0->jupyter-server<3,>=2.0.1->jupyterlab-git) (2.0.7)\n",
      "Requirement already satisfied: pyyaml>=5.3 in c:\\users\\mauricio\\anaconda3\\lib\\site-packages (from jupyter-events>=0.9.0->jupyter-server<3,>=2.0.1->jupyterlab-git) (6.0.1)\n",
      "Requirement already satisfied: rfc3339-validator in c:\\users\\mauricio\\anaconda3\\lib\\site-packages (from jupyter-events>=0.9.0->jupyter-server<3,>=2.0.1->jupyterlab-git) (0.1.4)\n",
      "Requirement already satisfied: rfc3986-validator>=0.1.1 in c:\\users\\mauricio\\anaconda3\\lib\\site-packages (from jupyter-events>=0.9.0->jupyter-server<3,>=2.0.1->jupyterlab-git) (0.1.1)\n",
      "Requirement already satisfied: beautifulsoup4 in c:\\users\\mauricio\\anaconda3\\lib\\site-packages (from nbconvert>=6.4.4->jupyter-server<3,>=2.0.1->jupyterlab-git) (4.12.3)\n",
      "Requirement already satisfied: bleach!=5.0.0 in c:\\users\\mauricio\\anaconda3\\lib\\site-packages (from nbconvert>=6.4.4->jupyter-server<3,>=2.0.1->jupyterlab-git) (4.1.0)\n",
      "Requirement already satisfied: defusedxml in c:\\users\\mauricio\\anaconda3\\lib\\site-packages (from nbconvert>=6.4.4->jupyter-server<3,>=2.0.1->jupyterlab-git) (0.7.1)\n",
      "Requirement already satisfied: jupyterlab-pygments in c:\\users\\mauricio\\anaconda3\\lib\\site-packages (from nbconvert>=6.4.4->jupyter-server<3,>=2.0.1->jupyterlab-git) (0.1.2)\n",
      "Requirement already satisfied: mistune<4,>=2.0.3 in c:\\users\\mauricio\\anaconda3\\lib\\site-packages (from nbconvert>=6.4.4->jupyter-server<3,>=2.0.1->jupyterlab-git) (2.0.4)\n",
      "Requirement already satisfied: nbclient>=0.5.0 in c:\\users\\mauricio\\anaconda3\\lib\\site-packages (from nbconvert>=6.4.4->jupyter-server<3,>=2.0.1->jupyterlab-git) (0.8.0)\n",
      "Requirement already satisfied: pandocfilters>=1.4.1 in c:\\users\\mauricio\\anaconda3\\lib\\site-packages (from nbconvert>=6.4.4->jupyter-server<3,>=2.0.1->jupyterlab-git) (1.5.0)\n",
      "Requirement already satisfied: tinycss2 in c:\\users\\mauricio\\anaconda3\\lib\\site-packages (from nbconvert>=6.4.4->jupyter-server<3,>=2.0.1->jupyterlab-git) (1.2.1)\n",
      "Requirement already satisfied: charset-normalizer<4,>=2 in c:\\users\\mauricio\\anaconda3\\lib\\site-packages (from requests->nbdime~=4.0.1->jupyterlab-git) (3.3.2)\n",
      "Requirement already satisfied: urllib3<3,>=1.21.1 in c:\\users\\mauricio\\anaconda3\\lib\\site-packages (from requests->nbdime~=4.0.1->jupyterlab-git) (2.2.3)\n",
      "Requirement already satisfied: certifi>=2017.4.17 in c:\\users\\mauricio\\anaconda3\\lib\\site-packages (from requests->nbdime~=4.0.1->jupyterlab-git) (2025.4.26)\n",
      "Requirement already satisfied: six>=1.9.0 in c:\\users\\mauricio\\anaconda3\\lib\\site-packages (from bleach!=5.0.0->nbconvert>=6.4.4->jupyter-server<3,>=2.0.1->jupyterlab-git) (1.16.0)\n",
      "Requirement already satisfied: webencodings in c:\\users\\mauricio\\anaconda3\\lib\\site-packages (from bleach!=5.0.0->nbconvert>=6.4.4->jupyter-server<3,>=2.0.1->jupyterlab-git) (0.5.1)\n",
      "Requirement already satisfied: smmap<5,>=3.0.1 in c:\\users\\mauricio\\anaconda3\\lib\\site-packages (from gitdb<5,>=4.0.1->gitpython!=2.1.4,!=2.1.5,!=2.1.6->nbdime~=4.0.1->jupyterlab-git) (4.0.0)\n",
      "Requirement already satisfied: fqdn in c:\\users\\mauricio\\anaconda3\\lib\\site-packages (from jsonschema[format-nongpl]>=4.18.0->jupyter-events>=0.9.0->jupyter-server<3,>=2.0.1->jupyterlab-git) (1.5.1)\n",
      "Requirement already satisfied: isoduration in c:\\users\\mauricio\\anaconda3\\lib\\site-packages (from jsonschema[format-nongpl]>=4.18.0->jupyter-events>=0.9.0->jupyter-server<3,>=2.0.1->jupyterlab-git) (20.11.0)\n",
      "Requirement already satisfied: jsonpointer>1.13 in c:\\users\\mauricio\\anaconda3\\lib\\site-packages (from jsonschema[format-nongpl]>=4.18.0->jupyter-events>=0.9.0->jupyter-server<3,>=2.0.1->jupyterlab-git) (2.1)\n",
      "Requirement already satisfied: uri-template in c:\\users\\mauricio\\anaconda3\\lib\\site-packages (from jsonschema[format-nongpl]>=4.18.0->jupyter-events>=0.9.0->jupyter-server<3,>=2.0.1->jupyterlab-git) (1.3.0)\n",
      "Requirement already satisfied: webcolors>=24.6.0 in c:\\users\\mauricio\\anaconda3\\lib\\site-packages (from jsonschema[format-nongpl]>=4.18.0->jupyter-events>=0.9.0->jupyter-server<3,>=2.0.1->jupyterlab-git) (24.11.1)\n",
      "Requirement already satisfied: cffi>=1.0.1 in c:\\users\\mauricio\\anaconda3\\lib\\site-packages (from argon2-cffi-bindings->argon2-cffi>=21.1->jupyter-server<3,>=2.0.1->jupyterlab-git) (1.17.1)\n",
      "Requirement already satisfied: soupsieve>1.2 in c:\\users\\mauricio\\anaconda3\\lib\\site-packages (from beautifulsoup4->nbconvert>=6.4.4->jupyter-server<3,>=2.0.1->jupyterlab-git) (2.5)\n",
      "Requirement already satisfied: pycparser in c:\\users\\mauricio\\anaconda3\\lib\\site-packages (from cffi>=1.0.1->argon2-cffi-bindings->argon2-cffi>=21.1->jupyter-server<3,>=2.0.1->jupyterlab-git) (2.21)\n",
      "Requirement already satisfied: arrow>=0.15.0 in c:\\users\\mauricio\\anaconda3\\lib\\site-packages (from isoduration->jsonschema[format-nongpl]>=4.18.0->jupyter-events>=0.9.0->jupyter-server<3,>=2.0.1->jupyterlab-git) (1.2.3)\n",
      "Downloading jupyterlab_git-0.51.1-py3-none-any.whl (367 kB)\n",
      "Downloading nbdime-4.0.2-py3-none-any.whl (5.9 MB)\n",
      "   ---------------------------------------- 0.0/5.9 MB ? eta -:--:--\n",
      "   -------- ------------------------------- 1.3/5.9 MB 8.4 MB/s eta 0:00:01\n",
      "   ---------- ----------------------------- 1.6/5.9 MB 4.0 MB/s eta 0:00:02\n",
      "   --------------- ------------------------ 2.4/5.9 MB 4.2 MB/s eta 0:00:01\n",
      "   ----------------- ---------------------- 2.6/5.9 MB 3.1 MB/s eta 0:00:02\n",
      "   --------------------- ------------------ 3.1/5.9 MB 2.8 MB/s eta 0:00:01\n",
      "   --------------------- ------------------ 3.1/5.9 MB 2.8 MB/s eta 0:00:01\n",
      "   ----------------------- ---------------- 3.4/5.9 MB 2.3 MB/s eta 0:00:02\n",
      "   -------------------------- ------------- 3.9/5.9 MB 2.3 MB/s eta 0:00:01\n",
      "   ------------------------------ --------- 4.5/5.9 MB 2.3 MB/s eta 0:00:01\n",
      "   ------------------------------- -------- 4.7/5.9 MB 2.3 MB/s eta 0:00:01\n",
      "   --------------------------------- ------ 5.0/5.9 MB 2.1 MB/s eta 0:00:01\n",
      "   ------------------------------------- -- 5.5/5.9 MB 2.1 MB/s eta 0:00:01\n",
      "   -------------------------------------- - 5.8/5.9 MB 2.1 MB/s eta 0:00:01\n",
      "   ---------------------------------------- 5.9/5.9 MB 2.1 MB/s eta 0:00:00\n",
      "Downloading jupyter_server_mathjax-0.2.6-py3-none-any.whl (3.1 MB)\n",
      "   ---------------------------------------- 0.0/3.1 MB ? eta -:--:--\n",
      "   --- ------------------------------------ 0.3/3.1 MB ? eta -:--:--\n",
      "   ------ --------------------------------- 0.5/3.1 MB 1.9 MB/s eta 0:00:02\n",
      "   ---------- ----------------------------- 0.8/3.1 MB 1.7 MB/s eta 0:00:02\n",
      "   ---------- ----------------------------- 0.8/3.1 MB 1.7 MB/s eta 0:00:02\n",
      "   ------------- -------------------------- 1.0/3.1 MB 1.1 MB/s eta 0:00:02\n",
      "   -------------------- ------------------- 1.6/3.1 MB 1.3 MB/s eta 0:00:02\n",
      "   ----------------------- ---------------- 1.8/3.1 MB 1.3 MB/s eta 0:00:01\n",
      "   -------------------------- ------------- 2.1/3.1 MB 1.4 MB/s eta 0:00:01\n",
      "   ------------------------------ --------- 2.4/3.1 MB 1.4 MB/s eta 0:00:01\n",
      "   ------------------------------------ --- 2.9/3.1 MB 1.4 MB/s eta 0:00:01\n",
      "   ---------------------------------------- 3.1/3.1 MB 1.4 MB/s eta 0:00:00\n",
      "Installing collected packages: jupyter-server-mathjax, nbdime, jupyterlab-git\n",
      "Successfully installed jupyter-server-mathjax-0.2.6 jupyterlab-git-0.51.1 nbdime-4.0.2\n",
      "Note: you may need to restart the kernel to use updated packages.\n"
     ]
    }
   ],
   "source": [
    "pip install jupyterlab-git"
   ]
  },
  {
   "cell_type": "code",
   "execution_count": 1,
   "id": "0081d9c6-4860-4940-a8ee-ce651a35675b",
   "metadata": {},
   "outputs": [
    {
     "ename": "SyntaxError",
     "evalue": "invalid syntax (2485743006.py, line 1)",
     "output_type": "error",
     "traceback": [
      "\u001b[1;36m  Cell \u001b[1;32mIn[1], line 1\u001b[1;36m\u001b[0m\n\u001b[1;33m    jupyter lab build\u001b[0m\n\u001b[1;37m            ^\u001b[0m\n\u001b[1;31mSyntaxError\u001b[0m\u001b[1;31m:\u001b[0m invalid syntax\n"
     ]
    }
   ],
   "source": [
    "jupyter lab build"
   ]
  },
  {
   "cell_type": "code",
   "execution_count": null,
   "id": "10615879-36d3-4189-a953-6ac112b81324",
   "metadata": {},
   "outputs": [],
   "source": []
  }
 ],
 "metadata": {
  "kernelspec": {
   "display_name": "Python [conda env:base] *",
   "language": "python",
   "name": "conda-base-py"
  },
  "language_info": {
   "codemirror_mode": {
    "name": "ipython",
    "version": 3
   },
   "file_extension": ".py",
   "mimetype": "text/x-python",
   "name": "python",
   "nbconvert_exporter": "python",
   "pygments_lexer": "ipython3",
   "version": "3.12.7"
  }
 },
 "nbformat": 4,
 "nbformat_minor": 5
}

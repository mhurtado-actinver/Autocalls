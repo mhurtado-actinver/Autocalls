{
 "cells": [
  {
   "cell_type": "code",
   "execution_count": 8,
   "id": "0417a6f8-73de-4074-bc27-89075bb1d9dc",
   "metadata": {},
   "outputs": [],
   "source": [
    "# Imports\n",
    "from common_imports import *\n",
    "from api_init import initialize_apis\n",
    "from data_extraction import get_continuous_risk_free_rate, get_live_ric_data\n",
    "from testing import split_train_test_calendar_window, compare_simulated_to_real_returns, run_rolling_volatility_regime_model\n",
    "from plotting import *\n",
    "from branding import *\n",
    "from models.gbm import monte_carlo_paths_gbm\n",
    "from models.jump import monte_carlo_paths_jumps, calibrate_jump_model\n",
    "from models.regime import monte_carlo_paths_regimes, calibrate_volatility_regime_model\n",
    "from models.heston import monte_carlo_paths_heston, calibrate_heston_model"
   ]
  }
 ],
 "metadata": {
  "kernelspec": {
   "display_name": "Python [conda env:base] *",
   "language": "python",
   "name": "conda-base-py"
  },
  "language_info": {
   "codemirror_mode": {
    "name": "ipython",
    "version": 3
   },
   "file_extension": ".py",
   "mimetype": "text/x-python",
   "name": "python",
   "nbconvert_exporter": "python",
   "pygments_lexer": "ipython3",
   "version": "3.12.7"
  }
 },
 "nbformat": 4,
 "nbformat_minor": 5
}
